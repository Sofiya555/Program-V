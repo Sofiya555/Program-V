{
 "cells": [
  {
   "cell_type": "markdown",
   "metadata": {},
   "source": [
    "Функції із змінними"
   ]
  },
  {
   "cell_type": "code",
   "execution_count": 137,
   "metadata": {},
   "outputs": [
    {
     "name": "stdout",
     "output_type": "stream",
     "text": [
      "20.5\n"
     ]
    }
   ],
   "source": [
    "a=5\n",
    "b=15.5\n",
    "print(a+b)"
   ]
  },
  {
   "cell_type": "code",
   "execution_count": 138,
   "metadata": {},
   "outputs": [
    {
     "name": "stdout",
     "output_type": "stream",
     "text": [
      "20.5\n",
      "11\n",
      "13\n",
      "34.5\n"
     ]
    }
   ],
   "source": [
    "a=5\n",
    "b=15.5\n",
    "c=6\n",
    "d=8\n",
    "print(a+b)\n",
    "print(a+c)\n",
    "print(a+d)\n",
    "print(a+b+c+d)"
   ]
  },
  {
   "cell_type": "markdown",
   "metadata": {},
   "source": [
    "Варіат коду з помилкою"
   ]
  },
  {
   "cell_type": "code",
   "execution_count": 139,
   "metadata": {},
   "outputs": [
    {
     "name": "stdout",
     "output_type": "stream",
     "text": [
      "division by zero\n",
      "При діленні 0 на будь-яке число, в результаті отримаємо нуль!\n"
     ]
    }
   ],
   "source": [
    "A = 0\n",
    "try:\n",
    "    print(\"Що буде якщо\", 55/A, \"?\")\n",
    "except Exception as e:\n",
    "    print(e)\n",
    "finally:\n",
    "    print(\"При діленні 0 на будь-яке число, в результаті отримаємо нуль!\")"
   ]
  },
  {
   "cell_type": "markdown",
   "metadata": {},
   "source": [
    "Працюю з лямбдами"
   ]
  },
  {
   "cell_type": "code",
   "execution_count": 140,
   "metadata": {},
   "outputs": [
    {
     "name": "stdout",
     "output_type": "stream",
     "text": [
      "Це просто функція: <function <lambda> at 0x0000026236A2F2E0>\n",
      "Це її виклик: Цей код написала: Софія Кіх\n"
     ]
    }
   ],
   "source": [
    "this_is_lambda = lambda first, last: f'Цей код написала: {first} {last}'\n",
    "print(\"Це просто функція:\", this_is_lambda)\n",
    "print(\"Це її виклик:\", this_is_lambda('Софія', 'Кіх'))"
   ]
  },
  {
   "cell_type": "markdown",
   "metadata": {},
   "source": [
    "Працюю з циклами"
   ]
  },
  {
   "cell_type": "code",
   "execution_count": 141,
   "metadata": {},
   "outputs": [
    {
     "name": "stdout",
     "output_type": "stream",
     "text": [
      "На позиції 0 знаходиться буква a\n",
      "На позиції 1 знаходиться буква b\n",
      "На позиції 2 знаходиться буква c\n",
      "На позиції 3 знаходиться буква d\n",
      "На позиції 4 знаходиться буква f\n",
      "На позиції 5 знаходиться буква g\n",
      "На позиції 6 знаходиться буква z\n"
     ]
    }
   ],
   "source": [
    "letters = [\"a\", \"b\", \"c\", \"d\", \"f\", \"g\",\"z\"]\n",
    "for i in range(len(letters)):\n",
    "    print(f\"На позиції {i} знаходиться буква {letters[i]}\")"
   ]
  },
  {
   "cell_type": "markdown",
   "metadata": {},
   "source": [
    "Працюю з розгалуженням"
   ]
  },
  {
   "cell_type": "code",
   "execution_count": 142,
   "metadata": {},
   "outputs": [
    {
     "name": "stdout",
     "output_type": "stream",
     "text": [
      ">> Я на ітерації 0\n",
      "Ніяка умова не виконалася\n",
      ">>Завершення ітерації\n",
      ">> Я на ітерації 1\n",
      " Я зайшла в перше розгалуження, A = 1\n",
      ">>Завершення ітерації\n",
      ">> Я на ітерації 2\n",
      "Ніяка умова не виконалася\n",
      ">>Завершення ітерації\n",
      ">> Я на ітерації 3\n",
      "Я зайшла в друге розгалуження, A = 3\n",
      ">>Завершення ітерації\n",
      ">> Я на ітерації 4\n",
      "Ніяка умова не виконалася\n",
      ">>Завершення ітерації\n"
     ]
    }
   ],
   "source": [
    "for A in range(5):\n",
    "    print(\">> Я на ітерації\", A )\n",
    "    if A == 1:\n",
    "        print(\" Я зайшла в перше розгалуження, A =\",A)\n",
    "    elif A == 3: \n",
    "        print(\"Я зайшла в друге розгалуження, A =\", A) \n",
    "    else:\n",
    "        print(\"Ніяка умова не виконалася\")  \n",
    "    print(\">>Завершення ітерації\")    "
   ]
  }
 ],
 "metadata": {
  "kernelspec": {
   "display_name": "Python 3.10.7 64-bit",
   "language": "python",
   "name": "python3"
  },
  "language_info": {
   "codemirror_mode": {
    "name": "ipython",
    "version": 3
   },
   "file_extension": ".py",
   "mimetype": "text/x-python",
   "name": "python",
   "nbconvert_exporter": "python",
   "pygments_lexer": "ipython3",
   "version": "3.10.7"
  },
  "orig_nbformat": 4,
  "vscode": {
   "interpreter": {
    "hash": "568d99031516cb91b124139a50c43e0e628ee43803acee1edec6cbd47ca74668"
   }
  }
 },
 "nbformat": 4,
 "nbformat_minor": 2
}
